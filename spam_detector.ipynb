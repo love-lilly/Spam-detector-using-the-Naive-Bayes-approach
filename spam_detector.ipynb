{
 "cells": [
  {
   "cell_type": "code",
   "execution_count": 11,
   "metadata": {},
   "outputs": [],
   "source": [
    "import math\n",
    "import re\n",
    "import sys\n",
    "import matplotlib.pyplot as plt \n",
    "import os\n",
    "import numpy as np"
   ]
  },
  {
   "cell_type": "code",
   "execution_count": 12,
   "metadata": {},
   "outputs": [],
   "source": [
    "train_data_directory = \"train/\""
   ]
  },
  {
   "cell_type": "markdown",
   "metadata": {},
   "source": [
    "### Word Count"
   ]
  },
  {
   "cell_type": "code",
   "execution_count": 13,
   "metadata": {},
   "outputs": [],
   "source": [
    "ham_dictionary = {}    # stores words in ham files and their frequencies\n",
    "spam_dictionary = {}    # stores words in spam files and their frequencies\n",
    "vocabulary = set()    # stores unique words present in all files (spam and ham)\n",
    "\n",
    "def word_count_directory(train_data_directory):\n",
    "    \n",
    "    # list of file paths for files in train_data_directory\n",
    "    file_list = [os.path.join(train_data_directory,f) for f in os.listdir(train_data_directory)]\n",
    "    \n",
    "    # intialize no of spam and ham files\n",
    "    no_of_spam_files = 0\n",
    "    no_of_ham_files = 0\n",
    "    \n",
    "    for file_path in file_list:\n",
    "        with open(file_path,encoding='latin-1') as infile:\n",
    "            # to store type of file 'spam' or 'ham'\n",
    "            file_type = ''\n",
    "            if 'spam' in file_path:\n",
    "                file_type = 'spam'\n",
    "                no_of_spam_files += 1\n",
    "            elif 'ham' in file_path:\n",
    "                file_type = 'ham'\n",
    "                no_of_ham_files += 1\n",
    "                \n",
    "            # Loop through each line of the file \n",
    "            for line in infile:\n",
    "                 \n",
    "                line = line.strip()    # Remove the leading spaces and newline character\n",
    "                lower_line = str.lower(line)    # Convert characters in line to lowercase to avoid case mismatch\n",
    "                valid_words = re.split('[^a-zA-Z]',lower_line) # filter words following the given regex\n",
    "                valid_words = list(filter(None, valid_words))   # filter words with length greater than 0\n",
    "                \n",
    "                # Iterate over each word in line \n",
    "                for word in valid_words:\n",
    "                    if file_type == 'ham':\n",
    "                        # Check if the word is already in dictionary\n",
    "                        if word in ham_dictionary:\n",
    "                            ham_dictionary[word] += 1\n",
    "                        else:\n",
    "                            ham_dictionary[word] = 1     # add word to dictionary with count 1\n",
    "                            vocabulary.add(word)     # add word to vocabulary set\n",
    "\n",
    "                            # if this word is not present in spam_dictionary, add it with count 0\n",
    "                            if word not in spam_dictionary:\n",
    "                                spam_dictionary[word] = 0\n",
    "\n",
    "                    elif file_type == 'spam':\n",
    "                        # Check if the word is already in dictionary\n",
    "                        if word in spam_dictionary:\n",
    "                            spam_dictionary[word] += 1\n",
    "                        else:\n",
    "                            spam_dictionary[word] = 1    # add word to dictionary with count 1\n",
    "                            vocabulary.add(word)    # add word to vocabulary set\n",
    "\n",
    "                            # if this word is not present in ham_dictionary, add it with count 0\n",
    "                            if word not in ham_dictionary:\n",
    "                                ham_dictionary[word] = 0\n",
    "    return no_of_spam_files,no_of_ham_files"
   ]
  }
 ],
 "metadata": {
  "kernelspec": {
   "display_name": "Python 3",
   "language": "python",
   "name": "python3"
  },
  "language_info": {
   "codemirror_mode": {
    "name": "ipython",
    "version": 3
   },
   "file_extension": ".py",
   "mimetype": "text/x-python",
   "name": "python",
   "nbconvert_exporter": "python",
   "pygments_lexer": "ipython3",
   "version": "3.7.3"
  }
 },
 "nbformat": 4,
 "nbformat_minor": 2
}
